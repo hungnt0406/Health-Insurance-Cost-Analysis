{
 "cells": [
  {
   "cell_type": "code",
   "execution_count": 1,
   "id": "94037c00",
   "metadata": {},
   "outputs": [],
   "source": [
    "import pandas as pd \n",
    "import numpy as np \n",
    "import matplotlib.pyplot as plt\n"
   ]
  },
  {
   "cell_type": "code",
   "execution_count": 2,
   "id": "f12639b3",
   "metadata": {},
   "outputs": [
    {
     "data": {
      "text/html": [
       "<div>\n",
       "<style scoped>\n",
       "    .dataframe tbody tr th:only-of-type {\n",
       "        vertical-align: middle;\n",
       "    }\n",
       "\n",
       "    .dataframe tbody tr th {\n",
       "        vertical-align: top;\n",
       "    }\n",
       "\n",
       "    .dataframe thead th {\n",
       "        text-align: right;\n",
       "    }\n",
       "</style>\n",
       "<table border=\"1\" class=\"dataframe\">\n",
       "  <thead>\n",
       "    <tr style=\"text-align: right;\">\n",
       "      <th></th>\n",
       "      <th>age</th>\n",
       "      <th>sex</th>\n",
       "      <th>bmi</th>\n",
       "      <th>children</th>\n",
       "      <th>smoker</th>\n",
       "      <th>region</th>\n",
       "      <th>charges</th>\n",
       "    </tr>\n",
       "  </thead>\n",
       "  <tbody>\n",
       "    <tr>\n",
       "      <th>0</th>\n",
       "      <td>19</td>\n",
       "      <td>female</td>\n",
       "      <td>27.900</td>\n",
       "      <td>0</td>\n",
       "      <td>yes</td>\n",
       "      <td>southwest</td>\n",
       "      <td>16884.92400</td>\n",
       "    </tr>\n",
       "    <tr>\n",
       "      <th>1</th>\n",
       "      <td>18</td>\n",
       "      <td>male</td>\n",
       "      <td>33.770</td>\n",
       "      <td>1</td>\n",
       "      <td>no</td>\n",
       "      <td>southeast</td>\n",
       "      <td>1725.55230</td>\n",
       "    </tr>\n",
       "    <tr>\n",
       "      <th>2</th>\n",
       "      <td>28</td>\n",
       "      <td>male</td>\n",
       "      <td>33.000</td>\n",
       "      <td>3</td>\n",
       "      <td>no</td>\n",
       "      <td>southeast</td>\n",
       "      <td>4449.46200</td>\n",
       "    </tr>\n",
       "    <tr>\n",
       "      <th>3</th>\n",
       "      <td>33</td>\n",
       "      <td>male</td>\n",
       "      <td>22.705</td>\n",
       "      <td>0</td>\n",
       "      <td>no</td>\n",
       "      <td>northwest</td>\n",
       "      <td>21984.47061</td>\n",
       "    </tr>\n",
       "    <tr>\n",
       "      <th>4</th>\n",
       "      <td>32</td>\n",
       "      <td>male</td>\n",
       "      <td>28.880</td>\n",
       "      <td>0</td>\n",
       "      <td>no</td>\n",
       "      <td>northwest</td>\n",
       "      <td>3866.85520</td>\n",
       "    </tr>\n",
       "  </tbody>\n",
       "</table>\n",
       "</div>"
      ],
      "text/plain": [
       "   age     sex     bmi  children smoker     region      charges\n",
       "0   19  female  27.900         0    yes  southwest  16884.92400\n",
       "1   18    male  33.770         1     no  southeast   1725.55230\n",
       "2   28    male  33.000         3     no  southeast   4449.46200\n",
       "3   33    male  22.705         0     no  northwest  21984.47061\n",
       "4   32    male  28.880         0     no  northwest   3866.85520"
      ]
     },
     "execution_count": 2,
     "metadata": {},
     "output_type": "execute_result"
    }
   ],
   "source": [
    "df = pd.read_csv('insurance.csv')\n",
    "df.head()"
   ]
  },
  {
   "cell_type": "code",
   "execution_count": 3,
   "id": "e2a39f23",
   "metadata": {},
   "outputs": [
    {
     "name": "stdout",
     "output_type": "stream",
     "text": [
      "<class 'pandas.core.frame.DataFrame'>\n",
      "RangeIndex: 1338 entries, 0 to 1337\n",
      "Data columns (total 7 columns):\n",
      " #   Column    Non-Null Count  Dtype  \n",
      "---  ------    --------------  -----  \n",
      " 0   age       1338 non-null   int64  \n",
      " 1   sex       1338 non-null   object \n",
      " 2   bmi       1338 non-null   float64\n",
      " 3   children  1338 non-null   int64  \n",
      " 4   smoker    1338 non-null   object \n",
      " 5   region    1338 non-null   object \n",
      " 6   charges   1338 non-null   float64\n",
      "dtypes: float64(2), int64(2), object(3)\n",
      "memory usage: 73.3+ KB\n"
     ]
    }
   ],
   "source": [
    "df.info()"
   ]
  },
  {
   "cell_type": "markdown",
   "id": "2cc610e0",
   "metadata": {},
   "source": [
    "No missing value found \n"
   ]
  },
  {
   "cell_type": "code",
   "execution_count": 4,
   "id": "c3326710",
   "metadata": {},
   "outputs": [
    {
     "data": {
      "text/html": [
       "<div>\n",
       "<style scoped>\n",
       "    .dataframe tbody tr th:only-of-type {\n",
       "        vertical-align: middle;\n",
       "    }\n",
       "\n",
       "    .dataframe tbody tr th {\n",
       "        vertical-align: top;\n",
       "    }\n",
       "\n",
       "    .dataframe thead th {\n",
       "        text-align: right;\n",
       "    }\n",
       "</style>\n",
       "<table border=\"1\" class=\"dataframe\">\n",
       "  <thead>\n",
       "    <tr style=\"text-align: right;\">\n",
       "      <th></th>\n",
       "      <th>age</th>\n",
       "      <th>bmi</th>\n",
       "      <th>children</th>\n",
       "      <th>charges</th>\n",
       "    </tr>\n",
       "  </thead>\n",
       "  <tbody>\n",
       "    <tr>\n",
       "      <th>count</th>\n",
       "      <td>1338.000000</td>\n",
       "      <td>1338.000000</td>\n",
       "      <td>1338.000000</td>\n",
       "      <td>1338.000000</td>\n",
       "    </tr>\n",
       "    <tr>\n",
       "      <th>mean</th>\n",
       "      <td>39.207025</td>\n",
       "      <td>30.663397</td>\n",
       "      <td>1.094918</td>\n",
       "      <td>13270.422265</td>\n",
       "    </tr>\n",
       "    <tr>\n",
       "      <th>std</th>\n",
       "      <td>14.049960</td>\n",
       "      <td>6.098187</td>\n",
       "      <td>1.205493</td>\n",
       "      <td>12110.011237</td>\n",
       "    </tr>\n",
       "    <tr>\n",
       "      <th>min</th>\n",
       "      <td>18.000000</td>\n",
       "      <td>15.960000</td>\n",
       "      <td>0.000000</td>\n",
       "      <td>1121.873900</td>\n",
       "    </tr>\n",
       "    <tr>\n",
       "      <th>25%</th>\n",
       "      <td>27.000000</td>\n",
       "      <td>26.296250</td>\n",
       "      <td>0.000000</td>\n",
       "      <td>4740.287150</td>\n",
       "    </tr>\n",
       "    <tr>\n",
       "      <th>50%</th>\n",
       "      <td>39.000000</td>\n",
       "      <td>30.400000</td>\n",
       "      <td>1.000000</td>\n",
       "      <td>9382.033000</td>\n",
       "    </tr>\n",
       "    <tr>\n",
       "      <th>75%</th>\n",
       "      <td>51.000000</td>\n",
       "      <td>34.693750</td>\n",
       "      <td>2.000000</td>\n",
       "      <td>16639.912515</td>\n",
       "    </tr>\n",
       "    <tr>\n",
       "      <th>max</th>\n",
       "      <td>64.000000</td>\n",
       "      <td>53.130000</td>\n",
       "      <td>5.000000</td>\n",
       "      <td>63770.428010</td>\n",
       "    </tr>\n",
       "  </tbody>\n",
       "</table>\n",
       "</div>"
      ],
      "text/plain": [
       "               age          bmi     children       charges\n",
       "count  1338.000000  1338.000000  1338.000000   1338.000000\n",
       "mean     39.207025    30.663397     1.094918  13270.422265\n",
       "std      14.049960     6.098187     1.205493  12110.011237\n",
       "min      18.000000    15.960000     0.000000   1121.873900\n",
       "25%      27.000000    26.296250     0.000000   4740.287150\n",
       "50%      39.000000    30.400000     1.000000   9382.033000\n",
       "75%      51.000000    34.693750     2.000000  16639.912515\n",
       "max      64.000000    53.130000     5.000000  63770.428010"
      ]
     },
     "execution_count": 4,
     "metadata": {},
     "output_type": "execute_result"
    }
   ],
   "source": [
    "df.describe()"
   ]
  },
  {
   "cell_type": "markdown",
   "id": "a1ced950",
   "metadata": {},
   "source": [
    "Age: The dataset includes only adults, ranging from 18 to 64 years old, with a significant portion concentrated in the middle-age group (25 to 53 years old).\n",
    "\n",
    "BMI: The dataset emphasizes overweight individuals. Only about 25% of the population has a BMI below 26.3, indicating that the majority fall within the overweight or obese categories.\n",
    "\n",
    "Children: Most individuals in the dataset either have no children or between one and two children, reflecting common household structures.\n",
    "\n",
    "Insurance Charges: The median insurance charge is lower than the mean, suggesting a right-skewed distribution. This indicates the presence of a small number of cases with extremely high costs, making insurance charges highly variable. In other words, while many individuals pay moderate charges, some face disproportionately high expenses."
   ]
  },
  {
   "cell_type": "code",
   "execution_count": 5,
   "id": "b7aefd2a",
   "metadata": {},
   "outputs": [
    {
     "data": {
      "image/png": "[encoded data removed]",
      "text/plain": [
       "<Figure size 800x500 with 1 Axes>"
      ]
     },
     "metadata": {},
     "output_type": "display_data"
    }
   ],
   "source": [
    "bins = [18,29,55,64]\n",
    "labels = [\"18–29\", \"30–55\", \"56–64\"]\n",
    "df['age_group'] = pd.cut(df['age'], bins= bins, labels= labels,include_lowest=True)\n",
    "height = [417, 705, 216]\n",
    "colors = ['skyblue', 'yellow', 'skyblue']\n",
    "plt.figure(figsize=(8,5))\n",
    "plt.bar(x=labels, height=height, color =colors)\n",
    "plt.xlabel('Age Group')\n",
    "plt.title('Age distribution')\n",
    "plt.xticks(rotation=0)\n",
    "plt.show()"
   ]
  },
  {
   "cell_type": "markdown",
   "id": "6f059284",
   "metadata": {},
   "source": [
    "The distribution is skewed toward middle-age adults. However the younger is also sizable, show that the dataset doesn't just focus on the older individuals."
   ]
  },
  {
   "cell_type": "code",
   "execution_count": 6,
   "id": "bb2ad5e7",
   "metadata": {},
   "outputs": [
    {
     "data": {
      "image/png": "[encoded data removed]",
      "text/plain": [
       "<Figure size 1200x500 with 1 Axes>"
      ]
     },
     "metadata": {},
     "output_type": "display_data"
    }
   ],
   "source": [
    "bmi_bins = [0, 18.5, 24.9, 29.9, 34.9, 39.9, 49.9, float('inf')]\n",
    "bmi_labels = [\n",
    "    \"Underweight\",\n",
    "    \"Normal\",\n",
    "    \"Overweight\",\n",
    "    \"Class I Obesity\",\n",
    "    \"Class II Obesity\",\n",
    "    \"Class III Obesity\",\n",
    "    \"Class IV Obesity\"\n",
    "]\n",
    "df['obesity_level']= pd.cut(df['age'],bins=bmi_bins,labels=bmi_labels,right=True)\n",
    "heights = [21, 221, 380, 397, 226, 89, 4]\n",
    "colors = [\"skyblue\",\n",
    "    \"skyblue\",\n",
    "    \"yellow\",\n",
    "    \"yellow\",\n",
    "    \"skyblue\",\n",
    "    \"skyblue\",\n",
    "    \"skyblue\"]\n",
    "plt.figure(figsize=(12,5))\n",
    "plt.bar(x = bmi_labels, height = heights, color = colors)\n",
    "plt.xlabel('Obesity Level')\n",
    "plt.title('Obesity Level Distribution')\n",
    "plt.xticks(rotation=0)\n",
    "plt.show()\n",
    "\n"
   ]
  },
  {
   "cell_type": "markdown",
   "id": "0dd1afdf",
   "metadata": {},
   "source": [
    "The largest groups are “Overweight” and “Class 1 Obesity”, together making up the majority of the dataset.\n",
    "\n",
    "The “Normal” group is considerably smaller than the overweight/obesity groups, showing that only a minority fall within the recommended BMI range.\n",
    "\n",
    "While overweight and Class 1 obesity dominate, there are still noticeable counts in Class 2 and Class 3 obesity.\n",
    "Class 4 obesity, and Underweight is very rare, indicating that extremely high or low BMI values are outliers."
   ]
  },
  {
   "cell_type": "code",
   "execution_count": 7,
   "id": "8176bf52",
   "metadata": {},
   "outputs": [
    {
     "data": {
      "image/png": "[encoded data removed]",
      "text/plain": [
       "<Figure size 800x600 with 1 Axes>"
      ]
     },
     "metadata": {},
     "output_type": "display_data"
    }
   ],
   "source": [
    "\n",
    "plt.figure(figsize=(8,6))\n",
    "plt.boxplot(df[\"charges\"], vert=True, patch_artist=True, boxprops=dict(facecolor=\"skyblue\"))\n",
    "\n",
    "plt.ylabel(\"Charges\")\n",
    "plt.title(\"Boxplot of Insurance Charges\")\n",
    "plt.grid(axis=\"y\", linestyle=\"--\", alpha=0.7)\n",
    "\n",
    "plt.show()"
   ]
  },
  {
   "cell_type": "code",
   "execution_count": 8,
   "id": "49fa7f0e",
   "metadata": {},
   "outputs": [
    {
     "name": "stdout",
     "output_type": "stream",
     "text": [
      "(139, 9)\n"
     ]
    }
   ],
   "source": [
    "charges = df[\"charges\"]\n",
    "\n",
    "Q1 = np.percentile(charges, 25)\n",
    "Q3 = np.percentile(charges, 75)\n",
    "IQR = Q3 - Q1\n",
    "\n",
    "lower_whisker = Q1 - 1.5 * IQR\n",
    "upper_whisker = Q3 + 1.5 * IQR\n",
    "df_outlier_charge = df[df['charges']> upper_whisker]\n",
    "print(df_outlier_charge.shape)\n",
    "\n"
   ]
  },
  {
   "cell_type": "markdown",
   "id": "522830e7",
   "metadata": {},
   "source": [
    "139 people that pay more than 34489.35$"
   ]
  },
  {
   "cell_type": "markdown",
   "id": "ee59d950",
   "metadata": {},
   "source": [
    "The boxplot is right-skewed.\n",
    "\n",
    "This indicates that while most people pay moderate charges, a smaller group pays very high charges.\n",
    "\n",
    "There are a lot of high outliers, with charges going beyond 60,000 USD.\n",
    "\n",
    "These likely represent individuals with very expensive treatments, often driven by factors like smoking, age, or chronic conditions.\n"
   ]
  },
  {
   "cell_type": "code",
   "execution_count": null,
   "id": "834387ba",
   "metadata": {},
   "outputs": [],
   "source": []
  }
 ],
 "metadata": {
  "kernelspec": {
   "display_name": "Python 3 (ipykernel)",
   "language": "python",
   "name": "python3"
  }
 },
 "nbformat": 4,
 "nbformat_minor": 5
}
